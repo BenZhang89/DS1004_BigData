{
 "cells": [
  {
   "cell_type": "markdown",
   "metadata": {},
   "source": [
    "## Mapper"
   ]
  },
  {
   "cell_type": "code",
   "execution_count": null,
   "metadata": {
    "collapsed": true
   },
   "outputs": [],
   "source": [
    "import sys\n",
    "import string\n",
    "# the system python does not have numpy, but the python/gnu/2.7.10 does\n",
    "# (we don't actually need it, but attempting to import it will trigger \n",
    "# an error if the mapper can't see the version of python we want to use)\n",
    "import numpy\n",
    "\n",
    "# input comes from STDIN (standard input)\n",
    "for line in sys.stdin:\n",
    "    # remove leading and trailing whitespace\n",
    "    line = line.strip()\n",
    "    # split the line into words\n",
    "    entries = line.split(\",\")\n",
    "    # increase counters\n",
    "    print('{0:s} \\t {1:d}'.format(entry[3], 1)) #在第一题基础上 entry[3] 是violation code"
   ]
  },
  {
   "cell_type": "code",
   "execution_count": null,
   "metadata": {
    "collapsed": true
   },
   "outputs": [],
   "source": [
    "#!/usr/bin/env python\n",
    "import sys\n",
    "import string\n",
    "\n",
    "for line in sys.stdin:\n",
    "    line = line.strip()\n",
    "    #Split line into array of entry data\n",
    "    entry = line.split(\",\")\n",
    "#     o_violations.append(entry[0])\n",
    "    if len(entry) == 22:  \n",
    "        print('{0:s} \\t {1:s}, {2:s}, {3:s}, {4:s}'.format(entry[0], entry[14], entry[6], entry[2], entry[1]))\n",
    "\n",
    "    if len(entry) == 18:\n",
    "        print('{0:s} \\t {1:s}'.format(entry[0], \"Open_violations\"))"
   ]
  },
  {
   "cell_type": "code",
   "execution_count": null,
   "metadata": {
    "collapsed": true
   },
   "outputs": [],
   "source": []
  },
  {
   "cell_type": "markdown",
   "metadata": {},
   "source": [
    "## Reducer"
   ]
  },
  {
   "cell_type": "code",
   "execution_count": null,
   "metadata": {
    "collapsed": true
   },
   "outputs": [],
   "source": [
    "from operator import itemgetter\n",
    "import sys\n",
    "\n",
    "\n",
    "current_key = None\n",
    "current_count = 0\n",
    "\n",
    "\n",
    "# input comes from STDIN\n",
    "for line in sys.stdin:\n",
    "    # remove leading and trailing whitespace\n",
    "    line = line.strip()\n",
    "\n",
    "    # parse the input we got from mapper.py\n",
    "    key, count = line.split('\\t', 1)\n",
    "\n",
    "    # convert count (currently a string) to int\n",
    "\n",
    "\n",
    "    if current_key == key:\n",
    "        current_count += count\n",
    "    else:\n",
    "        if current_key:\n",
    "            # write result to STDOUT\n",
    "            print('{0:s} \\t {1:d}'.format(current_key, current_count))\n",
    "        current_count = count\n",
    "        current_key = key\n",
    "        \n",
    "# do not forget to output the last word if needed!\n",
    "if current_key == key:\n",
    "    print('{0:s} \\t {1:d}'.format(current_key, current_count))"
   ]
  },
  {
   "cell_type": "code",
   "execution_count": null,
   "metadata": {
    "collapsed": true
   },
   "outputs": [],
   "source": []
  },
  {
   "cell_type": "code",
   "execution_count": null,
   "metadata": {
    "collapsed": true
   },
   "outputs": [],
   "source": []
  },
  {
   "cell_type": "code",
   "execution_count": null,
   "metadata": {
    "collapsed": true
   },
   "outputs": [],
   "source": []
  }
 ],
 "metadata": {
  "kernelspec": {
   "display_name": "Python 3",
   "language": "python",
   "name": "python3"
  },
  "language_info": {
   "codemirror_mode": {
    "name": "ipython",
    "version": 3
   },
   "file_extension": ".py",
   "mimetype": "text/x-python",
   "name": "python",
   "nbconvert_exporter": "python",
   "pygments_lexer": "ipython3",
   "version": "3.6.4"
  }
 },
 "nbformat": 4,
 "nbformat_minor": 2
}
