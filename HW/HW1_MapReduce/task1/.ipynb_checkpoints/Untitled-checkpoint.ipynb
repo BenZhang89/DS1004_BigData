{
 "cells": [
  {
   "cell_type": "code",
   "execution_count": 9,
   "metadata": {},
   "outputs": [
    {
     "name": "stdout",
     "output_type": "stream",
     "text": [
      "a\n",
      "c\n",
      "b\n",
      "c\n",
      "b\n",
      "c\n",
      "b\n",
      "c\n",
      "b\n",
      "c\n"
     ]
    }
   ],
   "source": [
    "key =1\n",
    "for line in range(5):   \n",
    "    if key == 1:   \n",
    "        print(\"a\")\n",
    "        continue\n",
    "        \n",
    "    \n",
    "    else: \n",
    "        print(\"b\")\n",
    "    key = 0\n",
    "    print(\"c\")"
   ]
  },
  {
   "cell_type": "code",
   "execution_count": null,
   "metadata": {
    "collapsed": true
   },
   "outputs": [],
   "source": [
    "#!/usr/bin/env python\n",
    "\n",
    "\n",
    "import sys\n",
    "import string\n",
    "\n",
    "current_key = None\n",
    "Printornot = True\n",
    "for line in sys.stdin:   \n",
    "    # remove leading and trailing whitespace\n",
    "    line = line.strip()\n",
    "    key,value = line.split('\\t',1)\n",
    "    \n",
    "    if key == current_key:   # for the assignment of current key, value\n",
    "        Printornot = False\n",
    "        continue\n",
    " \n",
    "\n",
    "    else: \n",
    "        if current_key:    #print the previous key,value  \n",
    "            if Printornot: \n",
    "                print('{0:s} \\t {1:s}'.format(current_key, printvalue)) \n",
    "                if len(value) ==1:\n",
    "                    Printornot = False \n",
    "     \n",
    "            else: \n",
    "                Printornot = True\n",
    "                if len(value) ==1:\n",
    "                    Printornot = False\n",
    "                \n",
    "              \n",
    "        else:   #for the first key value pair of whole file   \n",
    "            if len(value) ==1:\n",
    "                Printornot = False\n",
    "                \n",
    "        current_key = key \n",
    "        printvalue = value\n",
    "        \n",
    "if Printornot:\n",
    "    print('{0:s} \\t {1:s}'.format(current_key, printvalue))\n",
    "\n"
   ]
  }
 ],
 "metadata": {
  "kernelspec": {
   "display_name": "Python 3",
   "language": "python",
   "name": "python3"
  },
  "language_info": {
   "codemirror_mode": {
    "name": "ipython",
    "version": 3
   },
   "file_extension": ".py",
   "mimetype": "text/x-python",
   "name": "python",
   "nbconvert_exporter": "python",
   "pygments_lexer": "ipython3",
   "version": "3.6.4"
  }
 },
 "nbformat": 4,
 "nbformat_minor": 2
}
